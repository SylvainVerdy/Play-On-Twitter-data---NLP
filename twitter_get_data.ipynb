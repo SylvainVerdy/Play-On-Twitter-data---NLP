{
  "nbformat": 4,
  "nbformat_minor": 0,
  "metadata": {
    "colab": {
      "name": "twitter_get_data.ipynb",
      "provenance": [],
      "collapsed_sections": [],
      "authorship_tag": "ABX9TyNKm6hopa22NUn3fNhoE3PD"
    },
    "kernelspec": {
      "name": "python3",
      "display_name": "Python 3"
    }
  },
  "cells": [
    {
      "cell_type": "code",
      "metadata": {
        "id": "ROklqsv6zKBY",
        "colab_type": "code",
        "colab": {}
      },
      "source": [
        "import sys\n",
        "import os\n",
        "import re\n",
        "import tweepy\n",
        "from tweepy import OAuthHandler\n",
        "from textblob import TextBlob\n",
        "\n",
        "\n",
        "import spacy\n",
        "import numpy as np\n",
        "import pandas as pd\n",
        "import seaborn as sns\n",
        "import matplotlib.pyplot as plt\n",
        "% matplotlib inline\n",
        "import json\n",
        "\n",
        "from datetime import datetime, timedelta\n",
        "from IPython.display import clear_output\n",
        "from tqdm import tqdm\n",
        "\n",
        "\n",
        "from os import path\n",
        "from PIL import Image\n",
        "from wordcloud import WordCloud, STOPWORDS"
      ],
      "execution_count": 0,
      "outputs": []
    },
    {
      "cell_type": "code",
      "metadata": {
        "id": "TGc4FbSqCJDg",
        "colab_type": "code",
        "colab": {}
      },
      "source": [
        "#@title Enter Twitter Credentials\n",
        "TWITTER_KEY = '' #@param {type:\"string\"}\n",
        "TWITTER_SECRET_KEY = '' #@param {type:\"string\"}"
      ],
      "execution_count": 0,
      "outputs": []
    },
    {
      "cell_type": "code",
      "metadata": {
        "id": "TVHURO1szvXX",
        "colab_type": "code",
        "colab": {}
      },
      "source": [
        "# Authenticate\n",
        "auth = tweepy.AppAuthHandler(TWITTER_KEY, TWITTER_SECRET_KEY)\n",
        "\n",
        "api = tweepy.API(auth, wait_on_rate_limit=True,\n",
        "\t\t\t\t   wait_on_rate_limit_notify=True)\n",
        "\n",
        "if (not api):\n",
        "    print (\"Can't Authenticate\")\n",
        "    sys.exit(-1)\n"
      ],
      "execution_count": 0,
      "outputs": []
    },
    {
      "cell_type": "code",
      "metadata": {
        "id": "OfJpQSM77h1k",
        "colab_type": "code",
        "colab": {
          "base_uri": "https://localhost:8080/",
          "height": 35
        },
        "outputId": "cc86beef-8e13-457e-9b70-5b0019302890"
      },
      "source": [
        "#@markdown ###Get All tweets\n",
        "\n",
        "searchQuery = \"PSG \"\n",
        "tweetsPerQry = 100  # this is the max the API permits\n",
        "\n",
        "maxTweets = 10000\n",
        "new_tweets = api.search(q=searchQuery, count=tweetsPerQry, lang=\"fr\")\n",
        "topic = searchQuery[0:searchQuery.find('-')].capitalize().strip()\n",
        "print(topic)"
      ],
      "execution_count": 141,
      "outputs": [
        {
          "output_type": "stream",
          "text": [
            "Psg\n"
          ],
          "name": "stdout"
        }
      ]
    },
    {
      "cell_type": "code",
      "metadata": {
        "id": "qrau9l2TBbdP",
        "colab_type": "code",
        "colab": {
          "base_uri": "https://localhost:8080/",
          "height": 1000
        },
        "outputId": "665fa935-cb65-46d2-e752-eb3b1d33f368"
      },
      "source": [
        "#@markdown ### Twitter json format\n",
        "print(json.dumps(new_tweets[3]._json,indent=8))\n"
      ],
      "execution_count": 142,
      "outputs": [
        {
          "output_type": "stream",
          "text": [
            "{\n",
            "        \"created_at\": \"Wed Feb 26 21:42:14 +0000 2020\",\n",
            "        \"id\": 1232782953429819392,\n",
            "        \"id_str\": \"1232782953429819392\",\n",
            "        \"text\": \"Eh merde !!!  On se fait manger en 5 min alors qu'on m\\u00e8ne, comme face au PSG... \\ud83e\\udd26\\ud83c\\udffd\\u200d\\u2642\",\n",
            "        \"truncated\": false,\n",
            "        \"entities\": {\n",
            "                \"hashtags\": [],\n",
            "                \"symbols\": [],\n",
            "                \"user_mentions\": [],\n",
            "                \"urls\": []\n",
            "        },\n",
            "        \"metadata\": {\n",
            "                \"iso_language_code\": \"fr\",\n",
            "                \"result_type\": \"recent\"\n",
            "        },\n",
            "        \"source\": \"<a href=\\\"http://twitter.com/download/android\\\" rel=\\\"nofollow\\\">Twitter for Android</a>\",\n",
            "        \"in_reply_to_status_id\": null,\n",
            "        \"in_reply_to_status_id_str\": null,\n",
            "        \"in_reply_to_user_id\": null,\n",
            "        \"in_reply_to_user_id_str\": null,\n",
            "        \"in_reply_to_screen_name\": null,\n",
            "        \"user\": {\n",
            "                \"id\": 3035472825,\n",
            "                \"id_str\": \"3035472825\",\n",
            "                \"name\": \"\\ud835\\udd93\\ud835\\udd94\\ud835\\udd98\\ud835\\udd92\\ud835\\udd86\\ud835\\udd7e\\ud83c\\udde8\\ud83c\\uddee\",\n",
            "                \"screen_name\": \"1certain_samson\",\n",
            "                \"location\": \"C\\u00f4te d'Ivoire\",\n",
            "                \"description\": \"Dessin - Piano - Musique - Football \\u26bd | Twitos a mes heures perdues. J'ai le followback facile | #halamadrid\",\n",
            "                \"url\": null,\n",
            "                \"entities\": {\n",
            "                        \"description\": {\n",
            "                                \"urls\": []\n",
            "                        }\n",
            "                },\n",
            "                \"protected\": false,\n",
            "                \"followers_count\": 4146,\n",
            "                \"friends_count\": 2632,\n",
            "                \"listed_count\": 5,\n",
            "                \"created_at\": \"Fri Feb 13 21:43:35 +0000 2015\",\n",
            "                \"favourites_count\": 7044,\n",
            "                \"utc_offset\": null,\n",
            "                \"time_zone\": null,\n",
            "                \"geo_enabled\": true,\n",
            "                \"verified\": false,\n",
            "                \"statuses_count\": 11828,\n",
            "                \"lang\": null,\n",
            "                \"contributors_enabled\": false,\n",
            "                \"is_translator\": false,\n",
            "                \"is_translation_enabled\": false,\n",
            "                \"profile_background_color\": \"C0DEED\",\n",
            "                \"profile_background_image_url\": \"http://abs.twimg.com/images/themes/theme1/bg.png\",\n",
            "                \"profile_background_image_url_https\": \"https://abs.twimg.com/images/themes/theme1/bg.png\",\n",
            "                \"profile_background_tile\": false,\n",
            "                \"profile_image_url\": \"http://pbs.twimg.com/profile_images/1218677491272839169/uKkSeqE__normal.jpg\",\n",
            "                \"profile_image_url_https\": \"https://pbs.twimg.com/profile_images/1218677491272839169/uKkSeqE__normal.jpg\",\n",
            "                \"profile_banner_url\": \"https://pbs.twimg.com/profile_banners/3035472825/1578495547\",\n",
            "                \"profile_link_color\": \"1DA1F2\",\n",
            "                \"profile_sidebar_border_color\": \"C0DEED\",\n",
            "                \"profile_sidebar_fill_color\": \"DDEEF6\",\n",
            "                \"profile_text_color\": \"333333\",\n",
            "                \"profile_use_background_image\": true,\n",
            "                \"has_extended_profile\": true,\n",
            "                \"default_profile\": true,\n",
            "                \"default_profile_image\": false,\n",
            "                \"following\": null,\n",
            "                \"follow_request_sent\": null,\n",
            "                \"notifications\": null,\n",
            "                \"translator_type\": \"none\"\n",
            "        },\n",
            "        \"geo\": null,\n",
            "        \"coordinates\": null,\n",
            "        \"place\": null,\n",
            "        \"contributors\": null,\n",
            "        \"is_quote_status\": false,\n",
            "        \"retweet_count\": 0,\n",
            "        \"favorite_count\": 0,\n",
            "        \"favorited\": false,\n",
            "        \"retweeted\": false,\n",
            "        \"lang\": \"fr\"\n",
            "}\n"
          ],
          "name": "stdout"
        }
      ]
    },
    {
      "cell_type": "code",
      "metadata": {
        "id": "Dl7WhsN_B31t",
        "colab_type": "code",
        "colab": {
          "base_uri": "https://localhost:8080/",
          "height": 424
        },
        "outputId": "5f731081-b13d-484f-abda-90ce3dc552b4"
      },
      "source": [
        "tweet_list = []\n",
        "for tweet in range(len(new_tweets)):\n",
        "  retweet_text = None\n",
        "  if \"RT\" in new_tweets[tweet]._json['text']:\n",
        "    if 'retweeted_status' in new_tweets[tweet]._json.keys():\n",
        "      retweet_text = new_tweets[tweet]._json['retweeted_status']['text']\n",
        "\n",
        "  topic = searchQuery[0:searchQuery.find('-')].capitalize().strip()\n",
        "  tweet_user = new_tweets[tweet]._json['user']['name']\n",
        "  isRetweet = new_tweets[tweet]._json[\"retweeted\"]\n",
        "  tweet_list.append([tweet_user, topic, isRetweet, retweet_text])\n",
        "\n",
        "pd.DataFrame(tweet_list,columns=[\"user\", \"topic\", \"isRetweet\", \"retweeted\"])\n",
        "      "
      ],
      "execution_count": 143,
      "outputs": [
        {
          "output_type": "execute_result",
          "data": {
            "text/html": [
              "<div>\n",
              "<style scoped>\n",
              "    .dataframe tbody tr th:only-of-type {\n",
              "        vertical-align: middle;\n",
              "    }\n",
              "\n",
              "    .dataframe tbody tr th {\n",
              "        vertical-align: top;\n",
              "    }\n",
              "\n",
              "    .dataframe thead th {\n",
              "        text-align: right;\n",
              "    }\n",
              "</style>\n",
              "<table border=\"1\" class=\"dataframe\">\n",
              "  <thead>\n",
              "    <tr style=\"text-align: right;\">\n",
              "      <th></th>\n",
              "      <th>user</th>\n",
              "      <th>topic</th>\n",
              "      <th>isRetweet</th>\n",
              "      <th>retweeted</th>\n",
              "    </tr>\n",
              "  </thead>\n",
              "  <tbody>\n",
              "    <tr>\n",
              "      <th>0</th>\n",
              "      <td>El Matador❤️🥺</td>\n",
              "      <td>Psg</td>\n",
              "      <td>False</td>\n",
              "      <td>None</td>\n",
              "    </tr>\n",
              "    <tr>\n",
              "      <th>1</th>\n",
              "      <td>24 . 14 . 2 💜</td>\n",
              "      <td>Psg</td>\n",
              "      <td>False</td>\n",
              "      <td>Vous croyez vraiment que c’est le seul y’a des...</td>\n",
              "    </tr>\n",
              "    <tr>\n",
              "      <th>2</th>\n",
              "      <td>Tuchel Out</td>\n",
              "      <td>Psg</td>\n",
              "      <td>False</td>\n",
              "      <td>None</td>\n",
              "    </tr>\n",
              "    <tr>\n",
              "      <th>3</th>\n",
              "      <td>𝖓𝖔𝖘𝖒𝖆𝕾🇨🇮</td>\n",
              "      <td>Psg</td>\n",
              "      <td>False</td>\n",
              "      <td>None</td>\n",
              "    </tr>\n",
              "    <tr>\n",
              "      <th>4</th>\n",
              "      <td>ALLEZ PARIS 🇫🇷⭐⭐🏆</td>\n",
              "      <td>Psg</td>\n",
              "      <td>False</td>\n",
              "      <td>None</td>\n",
              "    </tr>\n",
              "    <tr>\n",
              "      <th>...</th>\n",
              "      <td>...</td>\n",
              "      <td>...</td>\n",
              "      <td>...</td>\n",
              "      <td>...</td>\n",
              "    </tr>\n",
              "    <tr>\n",
              "      <th>95</th>\n",
              "      <td>Seugn Teunkou ⚔️</td>\n",
              "      <td>Psg</td>\n",
              "      <td>False</td>\n",
              "      <td>MATRIX 😎 https://t.co/7lIMQiQ1Uw</td>\n",
              "    </tr>\n",
              "    <tr>\n",
              "      <th>96</th>\n",
              "      <td>Dylan</td>\n",
              "      <td>Psg</td>\n",
              "      <td>False</td>\n",
              "      <td>Kalidou Koulibaly se verrait bien succéder à T...</td>\n",
              "    </tr>\n",
              "    <tr>\n",
              "      <th>97</th>\n",
              "      <td>2launax</td>\n",
              "      <td>Psg</td>\n",
              "      <td>False</td>\n",
              "      <td>L’impression de voir le PSG en regardant la Ju...</td>\n",
              "    </tr>\n",
              "    <tr>\n",
              "      <th>98</th>\n",
              "      <td>bilelgouss95</td>\n",
              "      <td>Psg</td>\n",
              "      <td>False</td>\n",
              "      <td>Angel Di Maria a annoncé au Magazine du PSG vo...</td>\n",
              "    </tr>\n",
              "    <tr>\n",
              "      <th>99</th>\n",
              "      <td>🇲🇦</td>\n",
              "      <td>Psg</td>\n",
              "      <td>False</td>\n",
              "      <td>None</td>\n",
              "    </tr>\n",
              "  </tbody>\n",
              "</table>\n",
              "<p>100 rows × 4 columns</p>\n",
              "</div>"
            ],
            "text/plain": [
              "                 user  ...                                          retweeted\n",
              "0       El Matador❤️🥺  ...                                               None\n",
              "1       24 . 14 . 2 💜  ...  Vous croyez vraiment que c’est le seul y’a des...\n",
              "2          Tuchel Out  ...                                               None\n",
              "3            𝖓𝖔𝖘𝖒𝖆𝕾🇨🇮  ...                                               None\n",
              "4   ALLEZ PARIS 🇫🇷⭐⭐🏆  ...                                               None\n",
              "..                ...  ...                                                ...\n",
              "95   Seugn Teunkou ⚔️  ...                   MATRIX 😎 https://t.co/7lIMQiQ1Uw\n",
              "96              Dylan  ...  Kalidou Koulibaly se verrait bien succéder à T...\n",
              "97            2launax  ...  L’impression de voir le PSG en regardant la Ju...\n",
              "98       bilelgouss95  ...  Angel Di Maria a annoncé au Magazine du PSG vo...\n",
              "99                 🇲🇦  ...                                               None\n",
              "\n",
              "[100 rows x 4 columns]"
            ]
          },
          "metadata": {
            "tags": []
          },
          "execution_count": 143
        }
      ]
    },
    {
      "cell_type": "code",
      "metadata": {
        "id": "VXk6m4MOCRJ-",
        "colab_type": "code",
        "colab": {}
      },
      "source": [
        ""
      ],
      "execution_count": 0,
      "outputs": []
    }
  ]
}