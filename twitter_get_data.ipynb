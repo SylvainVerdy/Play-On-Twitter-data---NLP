{
  "nbformat": 4,
  "nbformat_minor": 0,
  "metadata": {
    "colab": {
      "name": "twitter_get_data.ipynb",
      "provenance": [],
      "collapsed_sections": [],
      "authorship_tag": "ABX9TyNenVF3fssGL34Hgvj3ocvu"
    },
    "kernelspec": {
      "name": "python3",
      "display_name": "Python 3"
    }
  },
  "cells": [
    {
      "cell_type": "code",
      "metadata": {
        "id": "ROklqsv6zKBY",
        "colab_type": "code",
        "colab": {}
      },
      "source": [
        "import sys\n",
        "import os\n",
        "import re\n",
        "import tweepy\n",
        "from tweepy import OAuthHandler\n",
        "from textblob import TextBlob\n",
        "\n",
        "\n",
        "import spacy\n",
        "import numpy as np\n",
        "import pandas as pd\n",
        "import seaborn as sns\n",
        "import matplotlib.pyplot as plt\n",
        "% matplotlib inline\n",
        "import json\n",
        "\n",
        "from datetime import datetime, timedelta\n",
        "from IPython.display import clear_output\n",
        "from tqdm import tqdm\n",
        "\n",
        "\n",
        "from os import path\n",
        "from PIL import Image\n",
        "from wordcloud import WordCloud, STOPWORDS"
      ],
      "execution_count": 0,
      "outputs": []
    },
    {
      "cell_type": "code",
      "metadata": {
        "id": "TGc4FbSqCJDg",
        "colab_type": "code",
        "colab": {}
      },
      "source": [
        "#@title Enter Twitter Credentials\n",
        "TWITTER_KEY = 'wdxfS7Dsv3YtVK7pj5EfWv4rS' #@param {type:\"string\"}\n",
        "TWITTER_SECRET_KEY = 'HnkTGH0KOLNUwFclKNAiBHS2pEyo4MXfvd535ZQKc7TbCTg0pf' #@param {type:\"string\"}"
      ],
      "execution_count": 0,
      "outputs": []
    },
    {
      "cell_type": "code",
      "metadata": {
        "id": "TVHURO1szvXX",
        "colab_type": "code",
        "colab": {}
      },
      "source": [
        "# Authenticate\n",
        "auth = tweepy.AppAuthHandler(TWITTER_KEY, TWITTER_SECRET_KEY)\n",
        "\n",
        "api = tweepy.API(auth, wait_on_rate_limit=True,\n",
        "\t\t\t\t   wait_on_rate_limit_notify=True)\n",
        "\n",
        "if (not api):\n",
        "    print (\"Can't Authenticate\")\n",
        "    sys.exit(-1)\n"
      ],
      "execution_count": 0,
      "outputs": []
    },
    {
      "cell_type": "code",
      "metadata": {
        "id": "OfJpQSM77h1k",
        "colab_type": "code",
        "outputId": "64baf7c9-e48c-4fd8-8bc9-ea6245fd806c",
        "colab": {
          "base_uri": "https://localhost:8080/",
          "height": 35
        }
      },
      "source": [
        "#@markdown ###Get All tweets\n",
        "\n",
        "searchQuery = \"PSG \"\n",
        "tweetsPerQry = 100  # this is the max the API permits\n",
        "\n",
        "maxTweets = 10000\n",
        "new_tweets = api.search(q=searchQuery, count=tweetsPerQry, lang=\"en\")\n",
        "topic = searchQuery[0:searchQuery.find('-')].capitalize().strip()\n",
        "print(topic)"
      ],
      "execution_count": 36,
      "outputs": [
        {
          "output_type": "stream",
          "text": [
            "Psg\n"
          ],
          "name": "stdout"
        }
      ]
    },
    {
      "cell_type": "code",
      "metadata": {
        "id": "qrau9l2TBbdP",
        "colab_type": "code",
        "outputId": "446ba11c-a6e5-4029-a2b7-d263fd021f44",
        "colab": {
          "base_uri": "https://localhost:8080/",
          "height": 1000
        }
      },
      "source": [
        "#@markdown ### Twitter json format\n",
        "print(json.dumps(new_tweets[3]._json,indent=8))\n"
      ],
      "execution_count": 37,
      "outputs": [
        {
          "output_type": "stream",
          "text": [
            "{\n",
            "        \"created_at\": \"Fri Mar 06 22:48:07 +0000 2020\",\n",
            "        \"id\": 1236061024576552961,\n",
            "        \"id_str\": \"1236061024576552961\",\n",
            "        \"text\": \"RT @brfootball: A year ago today, @MarcusRashford's 94th-minute penalty knocked PSG out of the Champions League.\\n\\nNeymar couldn't believe i\\u2026\",\n",
            "        \"truncated\": false,\n",
            "        \"entities\": {\n",
            "                \"hashtags\": [],\n",
            "                \"symbols\": [],\n",
            "                \"user_mentions\": [\n",
            "                        {\n",
            "                                \"screen_name\": \"brfootball\",\n",
            "                                \"name\": \"B/R Football\",\n",
            "                                \"id\": 1561123663,\n",
            "                                \"id_str\": \"1561123663\",\n",
            "                                \"indices\": [\n",
            "                                        3,\n",
            "                                        14\n",
            "                                ]\n",
            "                        },\n",
            "                        {\n",
            "                                \"screen_name\": \"MarcusRashford\",\n",
            "                                \"name\": \"Marcus Rashford\",\n",
            "                                \"id\": 734492654755577858,\n",
            "                                \"id_str\": \"734492654755577858\",\n",
            "                                \"indices\": [\n",
            "                                        34,\n",
            "                                        49\n",
            "                                ]\n",
            "                        }\n",
            "                ],\n",
            "                \"urls\": []\n",
            "        },\n",
            "        \"metadata\": {\n",
            "                \"iso_language_code\": \"en\",\n",
            "                \"result_type\": \"recent\"\n",
            "        },\n",
            "        \"source\": \"<a href=\\\"http://twitter.com/download/iphone\\\" rel=\\\"nofollow\\\">Twitter for iPhone</a>\",\n",
            "        \"in_reply_to_status_id\": null,\n",
            "        \"in_reply_to_status_id_str\": null,\n",
            "        \"in_reply_to_user_id\": null,\n",
            "        \"in_reply_to_user_id_str\": null,\n",
            "        \"in_reply_to_screen_name\": null,\n",
            "        \"user\": {\n",
            "                \"id\": 1218848631605944320,\n",
            "                \"id_str\": \"1218848631605944320\",\n",
            "                \"name\": \"Dybala_soumillion\",\n",
            "                \"screen_name\": \"DSoumillion\",\n",
            "                \"location\": \"\",\n",
            "                \"description\": \"\\ud83c\\udfbb\\ud83c\\udfbb\\ud83c\\udfbb \\ud83c\\udfbb\\ud83c\\udfbb\\ud83c\\udfbb hummm la guitare \\ud83c\\uddeb\\ud83c\\uddf7\",\n",
            "                \"url\": null,\n",
            "                \"entities\": {\n",
            "                        \"description\": {\n",
            "                                \"urls\": []\n",
            "                        }\n",
            "                },\n",
            "                \"protected\": false,\n",
            "                \"followers_count\": 36,\n",
            "                \"friends_count\": 120,\n",
            "                \"listed_count\": 0,\n",
            "                \"created_at\": \"Sun Jan 19 10:52:35 +0000 2020\",\n",
            "                \"favourites_count\": 3909,\n",
            "                \"utc_offset\": null,\n",
            "                \"time_zone\": null,\n",
            "                \"geo_enabled\": false,\n",
            "                \"verified\": false,\n",
            "                \"statuses_count\": 3168,\n",
            "                \"lang\": null,\n",
            "                \"contributors_enabled\": false,\n",
            "                \"is_translator\": false,\n",
            "                \"is_translation_enabled\": false,\n",
            "                \"profile_background_color\": \"F5F8FA\",\n",
            "                \"profile_background_image_url\": null,\n",
            "                \"profile_background_image_url_https\": null,\n",
            "                \"profile_background_tile\": false,\n",
            "                \"profile_image_url\": \"http://pbs.twimg.com/profile_images/1232282448089821186/Azymwx_1_normal.jpg\",\n",
            "                \"profile_image_url_https\": \"https://pbs.twimg.com/profile_images/1232282448089821186/Azymwx_1_normal.jpg\",\n",
            "                \"profile_banner_url\": \"https://pbs.twimg.com/profile_banners/1218848631605944320/1579434496\",\n",
            "                \"profile_link_color\": \"1DA1F2\",\n",
            "                \"profile_sidebar_border_color\": \"C0DEED\",\n",
            "                \"profile_sidebar_fill_color\": \"DDEEF6\",\n",
            "                \"profile_text_color\": \"333333\",\n",
            "                \"profile_use_background_image\": true,\n",
            "                \"has_extended_profile\": false,\n",
            "                \"default_profile\": true,\n",
            "                \"default_profile_image\": false,\n",
            "                \"following\": null,\n",
            "                \"follow_request_sent\": null,\n",
            "                \"notifications\": null,\n",
            "                \"translator_type\": \"none\"\n",
            "        },\n",
            "        \"geo\": null,\n",
            "        \"coordinates\": null,\n",
            "        \"place\": null,\n",
            "        \"contributors\": null,\n",
            "        \"retweeted_status\": {\n",
            "                \"created_at\": \"Fri Mar 06 11:33:39 +0000 2020\",\n",
            "                \"id\": 1235891290124029954,\n",
            "                \"id_str\": \"1235891290124029954\",\n",
            "                \"text\": \"A year ago today, @MarcusRashford's 94th-minute penalty knocked PSG out of the Champions League.\\n\\nNeymar couldn't b\\u2026 https://t.co/uA091qQv3q\",\n",
            "                \"truncated\": true,\n",
            "                \"entities\": {\n",
            "                        \"hashtags\": [],\n",
            "                        \"symbols\": [],\n",
            "                        \"user_mentions\": [\n",
            "                                {\n",
            "                                        \"screen_name\": \"MarcusRashford\",\n",
            "                                        \"name\": \"Marcus Rashford\",\n",
            "                                        \"id\": 734492654755577858,\n",
            "                                        \"id_str\": \"734492654755577858\",\n",
            "                                        \"indices\": [\n",
            "                                                18,\n",
            "                                                33\n",
            "                                        ]\n",
            "                                }\n",
            "                        ],\n",
            "                        \"urls\": [\n",
            "                                {\n",
            "                                        \"url\": \"https://t.co/uA091qQv3q\",\n",
            "                                        \"expanded_url\": \"https://twitter.com/i/web/status/1235891290124029954\",\n",
            "                                        \"display_url\": \"twitter.com/i/web/status/1\\u2026\",\n",
            "                                        \"indices\": [\n",
            "                                                117,\n",
            "                                                140\n",
            "                                        ]\n",
            "                                }\n",
            "                        ]\n",
            "                },\n",
            "                \"metadata\": {\n",
            "                        \"iso_language_code\": \"en\",\n",
            "                        \"result_type\": \"recent\"\n",
            "                },\n",
            "                \"source\": \"<a href=\\\"https://studio.twitter.com\\\" rel=\\\"nofollow\\\">Twitter Media Studio</a>\",\n",
            "                \"in_reply_to_status_id\": null,\n",
            "                \"in_reply_to_status_id_str\": null,\n",
            "                \"in_reply_to_user_id\": null,\n",
            "                \"in_reply_to_user_id_str\": null,\n",
            "                \"in_reply_to_screen_name\": null,\n",
            "                \"user\": {\n",
            "                        \"id\": 1561123663,\n",
            "                        \"id_str\": \"1561123663\",\n",
            "                        \"name\": \"B/R Football\",\n",
            "                        \"screen_name\": \"brfootball\",\n",
            "                        \"location\": \"\",\n",
            "                        \"description\": \"Get the Free B/R App \\u2b07\\ufe0f\",\n",
            "                        \"url\": \"https://t.co/CFXD5md1KQ\",\n",
            "                        \"entities\": {\n",
            "                                \"url\": {\n",
            "                                        \"urls\": [\n",
            "                                                {\n",
            "                                                        \"url\": \"https://t.co/CFXD5md1KQ\",\n",
            "                                                        \"expanded_url\": \"https://br.app.link/get-the-BR-app\",\n",
            "                                                        \"display_url\": \"br.app.link/get-the-BR-app\",\n",
            "                                                        \"indices\": [\n",
            "                                                                0,\n",
            "                                                                23\n",
            "                                                        ]\n",
            "                                                }\n",
            "                                        ]\n",
            "                                },\n",
            "                                \"description\": {\n",
            "                                        \"urls\": []\n",
            "                                }\n",
            "                        },\n",
            "                        \"protected\": false,\n",
            "                        \"followers_count\": 1530256,\n",
            "                        \"friends_count\": 1099,\n",
            "                        \"listed_count\": 7949,\n",
            "                        \"created_at\": \"Mon Jul 01 17:51:17 +0000 2013\",\n",
            "                        \"favourites_count\": 2771,\n",
            "                        \"utc_offset\": null,\n",
            "                        \"time_zone\": null,\n",
            "                        \"geo_enabled\": true,\n",
            "                        \"verified\": true,\n",
            "                        \"statuses_count\": 96030,\n",
            "                        \"lang\": null,\n",
            "                        \"contributors_enabled\": false,\n",
            "                        \"is_translator\": false,\n",
            "                        \"is_translation_enabled\": false,\n",
            "                        \"profile_background_color\": \"C0DEED\",\n",
            "                        \"profile_background_image_url\": \"http://abs.twimg.com/images/themes/theme1/bg.png\",\n",
            "                        \"profile_background_image_url_https\": \"https://abs.twimg.com/images/themes/theme1/bg.png\",\n",
            "                        \"profile_background_tile\": false,\n",
            "                        \"profile_image_url\": \"http://pbs.twimg.com/profile_images/1003913979448741888/FSzCtZWH_normal.jpg\",\n",
            "                        \"profile_image_url_https\": \"https://pbs.twimg.com/profile_images/1003913979448741888/FSzCtZWH_normal.jpg\",\n",
            "                        \"profile_banner_url\": \"https://pbs.twimg.com/profile_banners/1561123663/1582021079\",\n",
            "                        \"profile_link_color\": \"0084B4\",\n",
            "                        \"profile_sidebar_border_color\": \"FFFFFF\",\n",
            "                        \"profile_sidebar_fill_color\": \"DDEEF6\",\n",
            "                        \"profile_text_color\": \"333333\",\n",
            "                        \"profile_use_background_image\": true,\n",
            "                        \"has_extended_profile\": false,\n",
            "                        \"default_profile\": false,\n",
            "                        \"default_profile_image\": false,\n",
            "                        \"following\": null,\n",
            "                        \"follow_request_sent\": null,\n",
            "                        \"notifications\": null,\n",
            "                        \"translator_type\": \"regular\"\n",
            "                },\n",
            "                \"geo\": null,\n",
            "                \"coordinates\": null,\n",
            "                \"place\": null,\n",
            "                \"contributors\": null,\n",
            "                \"is_quote_status\": false,\n",
            "                \"retweet_count\": 2512,\n",
            "                \"favorite_count\": 19906,\n",
            "                \"favorited\": false,\n",
            "                \"retweeted\": false,\n",
            "                \"possibly_sensitive\": false,\n",
            "                \"lang\": \"en\"\n",
            "        },\n",
            "        \"is_quote_status\": false,\n",
            "        \"retweet_count\": 2512,\n",
            "        \"favorite_count\": 0,\n",
            "        \"favorited\": false,\n",
            "        \"retweeted\": false,\n",
            "        \"lang\": \"en\"\n",
            "}\n"
          ],
          "name": "stdout"
        }
      ]
    },
    {
      "cell_type": "code",
      "metadata": {
        "id": "Dl7WhsN_B31t",
        "colab_type": "code",
        "colab": {}
      },
      "source": [
        "tweet_list = []\n",
        "for tweet in range(len(new_tweets)):\n",
        "  retweet_text = None\n",
        "  if \"RT\" in new_tweets[tweet]._json['text']:\n",
        "    if 'retweeted_status' in new_tweets[tweet]._json.keys():\n",
        "      retweet_text = new_tweets[tweet]._json['retweeted_status']['text']\n",
        "\n",
        "  topic = searchQuery[0:searchQuery.find('-')].capitalize().strip()\n",
        "  tweet_user = new_tweets[tweet]._json['user']['name']\n",
        "  isRetweet = new_tweets[tweet]._json[\"retweeted\"]\n",
        "  tweet_list.append([tweet_user, topic, isRetweet, retweet_text])\n",
        "\n",
        "df = pd.DataFrame(tweet_list,columns=[\"user\", \"topic\", \"isRetweet\", \"retweeted\"])\n",
        "      "
      ],
      "execution_count": 0,
      "outputs": []
    },
    {
      "cell_type": "code",
      "metadata": {
        "id": "VXk6m4MOCRJ-",
        "colab_type": "code",
        "colab": {
          "base_uri": "https://localhost:8080/",
          "height": 424
        },
        "outputId": "784d2f14-d3dc-4bf1-e609-040a74a04380"
      },
      "source": [
        "df\n"
      ],
      "execution_count": 39,
      "outputs": [
        {
          "output_type": "execute_result",
          "data": {
            "text/html": [
              "<div>\n",
              "<style scoped>\n",
              "    .dataframe tbody tr th:only-of-type {\n",
              "        vertical-align: middle;\n",
              "    }\n",
              "\n",
              "    .dataframe tbody tr th {\n",
              "        vertical-align: top;\n",
              "    }\n",
              "\n",
              "    .dataframe thead th {\n",
              "        text-align: right;\n",
              "    }\n",
              "</style>\n",
              "<table border=\"1\" class=\"dataframe\">\n",
              "  <thead>\n",
              "    <tr style=\"text-align: right;\">\n",
              "      <th></th>\n",
              "      <th>user</th>\n",
              "      <th>topic</th>\n",
              "      <th>isRetweet</th>\n",
              "      <th>retweeted</th>\n",
              "    </tr>\n",
              "  </thead>\n",
              "  <tbody>\n",
              "    <tr>\n",
              "      <th>0</th>\n",
              "      <td>Toni Grinton</td>\n",
              "      <td>Psg</td>\n",
              "      <td>False</td>\n",
              "      <td>Breaking | Strasbourg vs PSG postponed owing t...</td>\n",
              "    </tr>\n",
              "    <tr>\n",
              "      <th>1</th>\n",
              "      <td>Glenn</td>\n",
              "      <td>Psg</td>\n",
              "      <td>False</td>\n",
              "      <td>A year ago today, @MarcusRashford's 94th-minut...</td>\n",
              "    </tr>\n",
              "    <tr>\n",
              "      <th>2</th>\n",
              "      <td>cet homme</td>\n",
              "      <td>Psg</td>\n",
              "      <td>False</td>\n",
              "      <td>None</td>\n",
              "    </tr>\n",
              "    <tr>\n",
              "      <th>3</th>\n",
              "      <td>Dybala_soumillion</td>\n",
              "      <td>Psg</td>\n",
              "      <td>False</td>\n",
              "      <td>A year ago today, @MarcusRashford's 94th-minut...</td>\n",
              "    </tr>\n",
              "    <tr>\n",
              "      <th>4</th>\n",
              "      <td>Samuel J. (THE🇦🇺OLFAN)</td>\n",
              "      <td>Psg</td>\n",
              "      <td>False</td>\n",
              "      <td>None</td>\n",
              "    </tr>\n",
              "    <tr>\n",
              "      <th>...</th>\n",
              "      <td>...</td>\n",
              "      <td>...</td>\n",
              "      <td>...</td>\n",
              "      <td>...</td>\n",
              "    </tr>\n",
              "    <tr>\n",
              "      <th>95</th>\n",
              "      <td>Nigel Refalo</td>\n",
              "      <td>Psg</td>\n",
              "      <td>False</td>\n",
              "      <td>None</td>\n",
              "    </tr>\n",
              "    <tr>\n",
              "      <th>96</th>\n",
              "      <td>BigDej</td>\n",
              "      <td>Psg</td>\n",
              "      <td>False</td>\n",
              "      <td>A year ago today, @MarcusRashford's 94th-minut...</td>\n",
              "    </tr>\n",
              "    <tr>\n",
              "      <th>97</th>\n",
              "      <td>Anfield Watch</td>\n",
              "      <td>Psg</td>\n",
              "      <td>False</td>\n",
              "      <td>None</td>\n",
              "    </tr>\n",
              "    <tr>\n",
              "      <th>98</th>\n",
              "      <td>KaRiM ❤👑</td>\n",
              "      <td>Psg</td>\n",
              "      <td>False</td>\n",
              "      <td>None</td>\n",
              "    </tr>\n",
              "    <tr>\n",
              "      <th>99</th>\n",
              "      <td>Kevin🇳🇴</td>\n",
              "      <td>Psg</td>\n",
              "      <td>False</td>\n",
              "      <td>PSG didn’t hang around - less than 1 hour afte...</td>\n",
              "    </tr>\n",
              "  </tbody>\n",
              "</table>\n",
              "<p>100 rows × 4 columns</p>\n",
              "</div>"
            ],
            "text/plain": [
              "                      user  ...                                          retweeted\n",
              "0             Toni Grinton  ...  Breaking | Strasbourg vs PSG postponed owing t...\n",
              "1                    Glenn  ...  A year ago today, @MarcusRashford's 94th-minut...\n",
              "2                cet homme  ...                                               None\n",
              "3        Dybala_soumillion  ...  A year ago today, @MarcusRashford's 94th-minut...\n",
              "4   Samuel J. (THE🇦🇺OLFAN)  ...                                               None\n",
              "..                     ...  ...                                                ...\n",
              "95            Nigel Refalo  ...                                               None\n",
              "96                  BigDej  ...  A year ago today, @MarcusRashford's 94th-minut...\n",
              "97           Anfield Watch  ...                                               None\n",
              "98                KaRiM ❤👑  ...                                               None\n",
              "99                 Kevin🇳🇴  ...  PSG didn’t hang around - less than 1 hour afte...\n",
              "\n",
              "[100 rows x 4 columns]"
            ]
          },
          "metadata": {
            "tags": []
          },
          "execution_count": 39
        }
      ]
    },
    {
      "cell_type": "code",
      "metadata": {
        "id": "v9fgzx_k9SuY",
        "colab_type": "code",
        "colab": {}
      },
      "source": [
        "list_df = df.get(\"retweeted\").tolist()\n",
        "df_filter = [ el for el in list_df if el != None]"
      ],
      "execution_count": 0,
      "outputs": []
    },
    {
      "cell_type": "code",
      "metadata": {
        "id": "cXytwAZB9VIg",
        "colab_type": "code",
        "colab": {
          "base_uri": "https://localhost:8080/",
          "height": 1000
        },
        "outputId": "098bfc86-7489-465f-bd18-4b5d0514dd23"
      },
      "source": [
        "df_filter"
      ],
      "execution_count": 41,
      "outputs": [
        {
          "output_type": "execute_result",
          "data": {
            "text/plain": [
              "['Breaking | Strasbourg vs PSG postponed owing to coronavirus concerns. More follows.',\n",
              " \"A year ago today, @MarcusRashford's 94th-minute penalty knocked PSG out of the Champions League.\\n\\nNeymar couldn't b… https://t.co/uA091qQv3q\",\n",
              " \"A year ago today, @MarcusRashford's 94th-minute penalty knocked PSG out of the Champions League.\\n\\nNeymar couldn't b… https://t.co/uA091qQv3q\",\n",
              " \"Regarding the #GreeceAttacksRefugees .\\nIn order for somebody to attack, he must cross the border line.\\nGreece hasn'… https://t.co/zcBuMc8g0E\",\n",
              " \"A year ago today, @MarcusRashford's 94th-minute penalty knocked PSG out of the Champions League.\\n\\nNeymar couldn't b… https://t.co/uA091qQv3q\",\n",
              " \"A year ago today, @MarcusRashford's 94th-minute penalty knocked PSG out of the Champions League.\\n\\nNeymar couldn't b… https://t.co/uA091qQv3q\",\n",
              " 'Exactly 2 years ago today, @Cristiano Ronaldo destroyed PSG at Parc Des Princes.🔥🔥🔥 https://t.co/HUlLqeiCYP',\n",
              " 'Making memories with ALL. A lucky member flew by private jet to Dortmund with the @PSG_inside players and watched t… https://t.co/6LA6T6B7UX',\n",
              " 'Exactly 2 years ago today, @Cristiano Ronaldo destroyed PSG at Parc Des Princes.🔥🔥🔥 https://t.co/HUlLqeiCYP',\n",
              " 'The epic story of how we beat PSG last time out… 😍\\n\\nBring on today’s game! #MUFC https://t.co/GDEzgNwSu7',\n",
              " 'Exactly 2 years ago today, @Cristiano Ronaldo destroyed PSG at Parc Des Princes.🔥🔥🔥 https://t.co/HUlLqeiCYP',\n",
              " 'PSG: *spend hundreds of millions to sign Neymar and Mbappé, sacrificing having quality fullbacks, a great midfield… https://t.co/3TEu8LabUc',\n",
              " \"A year ago today, @MarcusRashford's 94th-minute penalty knocked PSG out of the Champions League.\\n\\nNeymar couldn't b… https://t.co/uA091qQv3q\",\n",
              " 'Europe’s Top 10 Highest Wage Bills For 2018/19:\\n\\n1. Barcelona - £438m \\n2. Man United - £332m\\n3. Man City - £315m\\n4.… https://t.co/R7a7I5P8xn',\n",
              " 'ONE YEAR AGO TODAY: United knocked PSG out of the Champions League and a meme was born... \\n\\nMAN UNITED ARE BACK! 🔊🔊… https://t.co/aImlObOsno',\n",
              " '#OnThisDay: One year ago, #mufc did the unthinkable with a historic comeback against PSG, becoming the first team i… https://t.co/IHqCHqxYyk',\n",
              " 'I’m glad to hear reports that @realDonaldTrump’s administration will appeal the Tenth Circuit’s decision on small r… https://t.co/nnu2PkOePQ',\n",
              " 'Turkish forces shooting in the air while migrants yelling \"Allahu Akbar\".\\nToday afternoon.\\nThey should be easy to i… https://t.co/d2K0fFtqTG',\n",
              " 'Why on earth is Marco Verratti being broadcast by an Italian station doing this just days before PSG’s most importa… https://t.co/Eu1QwuzFUl',\n",
              " 'Why on earth is Marco Verratti being broadcast by an Italian station doing this just days before PSG’s most importa… https://t.co/Eu1QwuzFUl',\n",
              " \"A year ago today, @MarcusRashford's 94th-minute penalty knocked PSG out of the Champions League.\\n\\nNeymar couldn't b… https://t.co/uA091qQv3q\",\n",
              " 'Exactly 2 years ago today, @Cristiano Ronaldo destroyed PSG at Parc Des Princes.🔥🔥🔥 https://t.co/HUlLqeiCYP',\n",
              " 'Exactly 2 years ago today, @Cristiano Ronaldo destroyed PSG at Parc Des Princes.🔥🔥🔥 https://t.co/HUlLqeiCYP',\n",
              " \"A year ago today, @MarcusRashford's 94th-minute penalty knocked PSG out of the Champions League.\\n\\nNeymar couldn't b… https://t.co/uA091qQv3q\",\n",
              " 'Exactly 2 years ago today, @Cristiano Ronaldo destroyed PSG at Parc Des Princes.🔥🔥🔥 https://t.co/HUlLqeiCYP',\n",
              " 'Europe’s Top 10 Highest Wage Bills For 2018/19:\\n\\n1. Barcelona - £438m \\n2. Man United - £332m\\n3. Man City - £315m\\n4.… https://t.co/R7a7I5P8xn',\n",
              " 'Reported Liverpool target Kylian Mbappe could force move away from PSG. ⚽\\n\\nhttps://t.co/Axrc5HY9r9',\n",
              " 'Unlikely, but how magical would this be?\\n\\n• Atletico knocking out Liverpool\\n• Dortmund knocking out PSG\\n• Napoli kn… https://t.co/GhKKoPLwDF',\n",
              " 'Exactly 2 years ago today, @Cristiano Ronaldo destroyed PSG at Parc Des Princes.🔥🔥🔥 https://t.co/HUlLqeiCYP',\n",
              " '#OnThisDay: One year ago, #mufc did the unthinkable with a historic comeback against PSG, becoming the first team i… https://t.co/IHqCHqxYyk',\n",
              " \"Marcus Rashford's winning goal against PSG from the stands. Absolute scenes 🔥\\nhttps://t.co/IcXoQWAMvY\",\n",
              " 'Europe’s Top 10 Highest Wage Bills For 2018/19:\\n\\n1. Barcelona - £438m \\n2. Man United - £332m\\n3. Man City - £315m\\n4.… https://t.co/R7a7I5P8xn',\n",
              " \"A year ago today, @MarcusRashford's 94th-minute penalty knocked PSG out of the Champions League.\\n\\nNeymar couldn't b… https://t.co/uA091qQv3q\",\n",
              " \"A year ago today, @MarcusRashford's 94th-minute penalty knocked PSG out of the Champions League.\\n\\nNeymar couldn't b… https://t.co/uA091qQv3q\",\n",
              " 'Exactly 2 years ago today, @Cristiano Ronaldo destroyed PSG at Parc Des Princes.🔥🔥🔥 https://t.co/HUlLqeiCYP',\n",
              " 'Despite being without 10 senior players, and having lost the first leg 2️⃣-0️⃣ ... \\n\\n1 year ago today, @ManUtd had… https://t.co/6domzmCtsa',\n",
              " 'Bayern and Dortmund are\\xa0both interested in signing Thomas Meunier\\xa0when his\\xa0PSG\\xa0contract expires at the end of the s… https://t.co/NIG1Lat60R',\n",
              " 'Exactly 2 years ago today, @Cristiano Ronaldo destroyed PSG at Parc Des Princes.🔥🔥🔥 https://t.co/HUlLqeiCYP',\n",
              " 'Exactly 2 years ago today, @Cristiano Ronaldo destroyed PSG at Parc Des Princes.🔥🔥🔥 https://t.co/HUlLqeiCYP',\n",
              " 'Exactly 2 years ago today, @Cristiano Ronaldo destroyed PSG at Parc Des Princes.🔥🔥🔥 https://t.co/HUlLqeiCYP',\n",
              " 'Why on earth is Marco Verratti being broadcast by an Italian station doing this just days before PSG’s most importa… https://t.co/Eu1QwuzFUl',\n",
              " 'Why on earth is Marco Verratti being broadcast by an Italian station doing this just days before PSG’s most importa… https://t.co/Eu1QwuzFUl',\n",
              " 'Official: Strasbourg game has been postoponed due to CoronaVirus.\\nThis means that Neymar will finally play a second… https://t.co/OoOn01w6eX',\n",
              " \"A year ago today, @MarcusRashford's 94th-minute penalty knocked PSG out of the Champions League.\\n\\nNeymar couldn't b… https://t.co/uA091qQv3q\",\n",
              " 'Bernie the \"outsider\" and Biden the \"comeback kid\" have a combined 87 years in government, with nothing to show for… https://t.co/bFZOLYW28Z',\n",
              " \"Why don't you allow them entry to the UK? They will gladly oblige. You appear generous at other people's expense... https://t.co/yKuNXfBgaj\",\n",
              " \"A year ago today, @MarcusRashford's 94th-minute penalty knocked PSG out of the Champions League.\\n\\nNeymar couldn't b… https://t.co/uA091qQv3q\",\n",
              " 'Exactly 2 years ago today, @Cristiano Ronaldo destroyed PSG at Parc Des Princes.🔥🔥🔥 https://t.co/HUlLqeiCYP',\n",
              " \"A year ago today, @MarcusRashford's 94th-minute penalty knocked PSG out of the Champions League.\\n\\nNeymar couldn't b… https://t.co/uA091qQv3q\",\n",
              " 'Exactly 2 years ago today, @Cristiano Ronaldo destroyed PSG at Parc Des Princes.🔥🔥🔥 https://t.co/HUlLqeiCYP',\n",
              " \"PSG's football match at Strasbourg postponed due to coronavirus fears https://t.co/tgpZN1nUsf\",\n",
              " 'Europe’s Top 10 Highest Wage Bills For 2018/19:\\n\\n1. Barcelona - £438m \\n2. Man United - £332m\\n3. Man City - £315m\\n4.… https://t.co/R7a7I5P8xn',\n",
              " 'ONE YEAR AGO TODAY: United knocked PSG out of the Champions League and a meme was born... \\n\\nMAN UNITED ARE BACK! 🔊🔊… https://t.co/aImlObOsno',\n",
              " 'Exactly 2 years ago today, @Cristiano Ronaldo destroyed PSG at Parc Des Princes.🔥🔥🔥 https://t.co/HUlLqeiCYP',\n",
              " 'Exactly 2 years ago today, @Cristiano Ronaldo destroyed PSG at Parc Des Princes.🔥🔥🔥 https://t.co/HUlLqeiCYP',\n",
              " 'Exactly 2 years ago today, @Cristiano Ronaldo destroyed PSG at Parc Des Princes.🔥🔥🔥 https://t.co/HUlLqeiCYP',\n",
              " 'Why on earth is Marco Verratti being broadcast by an Italian station doing this just days before PSG’s most importa… https://t.co/Eu1QwuzFUl',\n",
              " 'PSG v MUFC a year ago today. A mate in the home end took this. https://t.co/XsuLdwVb1q',\n",
              " 'I expect Thomas Meunier to “fail upwards” this summer. Hasn’t been great at PSG, but he’s a big name in a small RB… https://t.co/kuVXhCwblo',\n",
              " 'Exactly 2 years ago today, @Cristiano Ronaldo destroyed PSG at Parc Des Princes.🔥🔥🔥 https://t.co/HUlLqeiCYP',\n",
              " 'Exactly 2 years ago today, @Cristiano Ronaldo destroyed PSG at Parc Des Princes.🔥🔥🔥 https://t.co/HUlLqeiCYP',\n",
              " 'Exactly 2 years ago today, @Cristiano Ronaldo destroyed PSG at Parc Des Princes.🔥🔥🔥 https://t.co/HUlLqeiCYP',\n",
              " 'Reported Liverpool target Kylian Mbappe could force move away from PSG. ⚽\\n\\nhttps://t.co/Axrc5HY9r9',\n",
              " 'Exactly 2 years ago today, @Cristiano Ronaldo destroyed PSG at Parc Des Princes.🔥🔥🔥 https://t.co/HUlLqeiCYP',\n",
              " \"A year ago today, @MarcusRashford's 94th-minute penalty knocked PSG out of the Champions League.\\n\\nNeymar couldn't b… https://t.co/uA091qQv3q\",\n",
              " 'PSG didn’t hang around - less than 1 hour after discovering that their match vs Strasbourg tomorrow has been called… https://t.co/ya0rz7vTLh']"
            ]
          },
          "metadata": {
            "tags": []
          },
          "execution_count": 41
        }
      ]
    },
    {
      "cell_type": "code",
      "metadata": {
        "id": "ac14ph-bAHBH",
        "colab_type": "code",
        "colab": {
          "base_uri": "https://localhost:8080/",
          "height": 424
        },
        "outputId": "599890f4-0cc4-4004-a0ac-b3f22abdad5b"
      },
      "source": [
        "!pip install transformers"
      ],
      "execution_count": 42,
      "outputs": [
        {
          "output_type": "stream",
          "text": [
            "Requirement already satisfied: transformers in /usr/local/lib/python3.6/dist-packages (2.5.1)\n",
            "Requirement already satisfied: tokenizers==0.5.2 in /usr/local/lib/python3.6/dist-packages (from transformers) (0.5.2)\n",
            "Requirement already satisfied: sentencepiece in /usr/local/lib/python3.6/dist-packages (from transformers) (0.1.85)\n",
            "Requirement already satisfied: numpy in /usr/local/lib/python3.6/dist-packages (from transformers) (1.17.5)\n",
            "Requirement already satisfied: boto3 in /usr/local/lib/python3.6/dist-packages (from transformers) (1.11.15)\n",
            "Requirement already satisfied: requests in /usr/local/lib/python3.6/dist-packages (from transformers) (2.21.0)\n",
            "Requirement already satisfied: tqdm>=4.27 in /usr/local/lib/python3.6/dist-packages (from transformers) (4.28.1)\n",
            "Requirement already satisfied: filelock in /usr/local/lib/python3.6/dist-packages (from transformers) (3.0.12)\n",
            "Requirement already satisfied: sacremoses in /usr/local/lib/python3.6/dist-packages (from transformers) (0.0.38)\n",
            "Requirement already satisfied: regex!=2019.12.17 in /usr/local/lib/python3.6/dist-packages (from transformers) (2019.12.20)\n",
            "Requirement already satisfied: s3transfer<0.4.0,>=0.3.0 in /usr/local/lib/python3.6/dist-packages (from boto3->transformers) (0.3.3)\n",
            "Requirement already satisfied: jmespath<1.0.0,>=0.7.1 in /usr/local/lib/python3.6/dist-packages (from boto3->transformers) (0.9.4)\n",
            "Requirement already satisfied: botocore<1.15.0,>=1.14.15 in /usr/local/lib/python3.6/dist-packages (from boto3->transformers) (1.14.15)\n",
            "Requirement already satisfied: certifi>=2017.4.17 in /usr/local/lib/python3.6/dist-packages (from requests->transformers) (2019.11.28)\n",
            "Requirement already satisfied: idna<2.9,>=2.5 in /usr/local/lib/python3.6/dist-packages (from requests->transformers) (2.8)\n",
            "Requirement already satisfied: urllib3<1.25,>=1.21.1 in /usr/local/lib/python3.6/dist-packages (from requests->transformers) (1.24.3)\n",
            "Requirement already satisfied: chardet<3.1.0,>=3.0.2 in /usr/local/lib/python3.6/dist-packages (from requests->transformers) (3.0.4)\n",
            "Requirement already satisfied: click in /usr/local/lib/python3.6/dist-packages (from sacremoses->transformers) (7.0)\n",
            "Requirement already satisfied: joblib in /usr/local/lib/python3.6/dist-packages (from sacremoses->transformers) (0.14.1)\n",
            "Requirement already satisfied: six in /usr/local/lib/python3.6/dist-packages (from sacremoses->transformers) (1.12.0)\n",
            "Requirement already satisfied: docutils<0.16,>=0.10 in /usr/local/lib/python3.6/dist-packages (from botocore<1.15.0,>=1.14.15->boto3->transformers) (0.15.2)\n",
            "Requirement already satisfied: python-dateutil<3.0.0,>=2.1 in /usr/local/lib/python3.6/dist-packages (from botocore<1.15.0,>=1.14.15->boto3->transformers) (2.6.1)\n"
          ],
          "name": "stdout"
        }
      ]
    },
    {
      "cell_type": "code",
      "metadata": {
        "id": "6fvGt3PY-VRY",
        "colab_type": "code",
        "colab": {}
      },
      "source": [
        "import torch\n",
        "from transformers import GPT2Tokenizer, GPT2Model, GPT2LMHeadModel"
      ],
      "execution_count": 0,
      "outputs": []
    },
    {
      "cell_type": "code",
      "metadata": {
        "id": "A4J-WsVsAM8u",
        "colab_type": "code",
        "colab": {}
      },
      "source": [
        "modelname = \"gpt2\"\n",
        "tokenizer = GPT2Tokenizer.from_pretrained(modelname)"
      ],
      "execution_count": 0,
      "outputs": []
    },
    {
      "cell_type": "code",
      "metadata": {
        "id": "j_AWNhnDAYs_",
        "colab_type": "code",
        "colab": {}
      },
      "source": [
        "text_tokenize = []\n",
        "count = 0\n",
        "for sentence in df_filter:\n",
        "  text_tokenize.append(tokenizer.tokenize(sentence))\n",
        "  count += 1"
      ],
      "execution_count": 0,
      "outputs": []
    },
    {
      "cell_type": "code",
      "metadata": {
        "id": "bNT4ybVUCUdd",
        "colab_type": "code",
        "colab": {
          "base_uri": "https://localhost:8080/",
          "height": 55
        },
        "outputId": "34080710-eb3e-485f-db35-5922752c7ea1"
      },
      "source": [
        "print(text_tokenize)"
      ],
      "execution_count": 46,
      "outputs": [
        {
          "output_type": "stream",
          "text": [
            "[['Breaking', 'Ġ|', 'ĠStras', 'bourg', 'Ġvs', 'ĠPS', 'G', 'Ġpostponed', 'Ġowing', 'Ġto', 'Ġcoron', 'av', 'irus', 'Ġconcerns', '.', 'ĠMore', 'Ġfollows', '.'], ['A', 'Ġyear', 'Ġago', 'Ġtoday', ',', 'Ġ@', 'Marcus', 'R', 'ash', 'ford', \"'s\", 'Ġ94', 'th', '-', 'minute', 'Ġpenalty', 'Ġknocked', 'ĠPS', 'G', 'Ġout', 'Ġof', 'Ġthe', 'ĠChampions', 'ĠLeague', '.', 'Ċ', 'Ċ', 'N', 'ey', 'mar', 'Ġcouldn', \"'t\", 'Ġb', 'âĢ¦', 'Ġhttps', '://', 't', '.', 'co', '/', 'u', 'A', '09', '1', 'q', 'Q', 'v', '3', 'q'], ['A', 'Ġyear', 'Ġago', 'Ġtoday', ',', 'Ġ@', 'Marcus', 'R', 'ash', 'ford', \"'s\", 'Ġ94', 'th', '-', 'minute', 'Ġpenalty', 'Ġknocked', 'ĠPS', 'G', 'Ġout', 'Ġof', 'Ġthe', 'ĠChampions', 'ĠLeague', '.', 'Ċ', 'Ċ', 'N', 'ey', 'mar', 'Ġcouldn', \"'t\", 'Ġb', 'âĢ¦', 'Ġhttps', '://', 't', '.', 'co', '/', 'u', 'A', '09', '1', 'q', 'Q', 'v', '3', 'q'], ['Regarding', 'Ġthe', 'Ġ#', 'G', 'ree', 'ce', 'Att', 'acks', 'Ref', 'uge', 'es', 'Ġ.', 'Ċ', 'In', 'Ġorder', 'Ġfor', 'Ġsomebody', 'Ġto', 'Ġattack', ',', 'Ġhe', 'Ġmust', 'Ġcross', 'Ġthe', 'Ġborder', 'Ġline', '.', 'Ċ', 'G', 'ree', 'ce', 'Ġhasn', \"'\", 'âĢ¦', 'Ġhttps', '://', 't', '.', 'co', '/', 'z', 'c', 'Bu', 'Mc', '8', 'g', '0', 'E'], ['A', 'Ġyear', 'Ġago', 'Ġtoday', ',', 'Ġ@', 'Marcus', 'R', 'ash', 'ford', \"'s\", 'Ġ94', 'th', '-', 'minute', 'Ġpenalty', 'Ġknocked', 'ĠPS', 'G', 'Ġout', 'Ġof', 'Ġthe', 'ĠChampions', 'ĠLeague', '.', 'Ċ', 'Ċ', 'N', 'ey', 'mar', 'Ġcouldn', \"'t\", 'Ġb', 'âĢ¦', 'Ġhttps', '://', 't', '.', 'co', '/', 'u', 'A', '09', '1', 'q', 'Q', 'v', '3', 'q'], ['A', 'Ġyear', 'Ġago', 'Ġtoday', ',', 'Ġ@', 'Marcus', 'R', 'ash', 'ford', \"'s\", 'Ġ94', 'th', '-', 'minute', 'Ġpenalty', 'Ġknocked', 'ĠPS', 'G', 'Ġout', 'Ġof', 'Ġthe', 'ĠChampions', 'ĠLeague', '.', 'Ċ', 'Ċ', 'N', 'ey', 'mar', 'Ġcouldn', \"'t\", 'Ġb', 'âĢ¦', 'Ġhttps', '://', 't', '.', 'co', '/', 'u', 'A', '09', '1', 'q', 'Q', 'v', '3', 'q'], ['Exactly', 'Ġ2', 'Ġyears', 'Ġago', 'Ġtoday', ',', 'Ġ@', 'C', 'rist', 'iano', 'ĠRonaldo', 'Ġdestroyed', 'ĠPS', 'G', 'Ġat', 'ĠPar', 'c', 'ĠDes', 'ĠPrin', 'ces', '.', 'ðŁ', 'Ķ', '¥', 'ðŁ', 'Ķ', '¥', 'ðŁ', 'Ķ', '¥', 'Ġhttps', '://', 't', '.', 'co', '/', 'H', 'Ul', 'L', 'q', 'ei', 'C', 'YP'], ['Making', 'Ġmemories', 'Ġwith', 'ĠALL', '.', 'ĠA', 'Ġlucky', 'Ġmember', 'Ġflew', 'Ġby', 'Ġprivate', 'Ġjet', 'Ġto', 'ĠDortmund', 'Ġwith', 'Ġthe', 'Ġ@', 'PS', 'G', '_', 'inside', 'Ġplayers', 'Ġand', 'Ġwatched', 'Ġt', 'âĢ¦', 'Ġhttps', '://', 't', '.', 'co', '/', '6', 'LA', '6', 'T', '6', 'B', '7', 'UX'], ['Exactly', 'Ġ2', 'Ġyears', 'Ġago', 'Ġtoday', ',', 'Ġ@', 'C', 'rist', 'iano', 'ĠRonaldo', 'Ġdestroyed', 'ĠPS', 'G', 'Ġat', 'ĠPar', 'c', 'ĠDes', 'ĠPrin', 'ces', '.', 'ðŁ', 'Ķ', '¥', 'ðŁ', 'Ķ', '¥', 'ðŁ', 'Ķ', '¥', 'Ġhttps', '://', 't', '.', 'co', '/', 'H', 'Ul', 'L', 'q', 'ei', 'C', 'YP'], ['The', 'Ġepic', 'Ġstory', 'Ġof', 'Ġhow', 'Ġwe', 'Ġbeat', 'ĠPS', 'G', 'Ġlast', 'Ġtime', 'Ġout', 'âĢ¦', 'ĠðŁĺ', 'į', 'Ċ', 'Ċ', 'Bring', 'Ġon', 'Ġtoday', 'âĢ', 'Ļ', 's', 'Ġgame', '!', 'Ġ#', 'MU', 'FC', 'Ġhttps', '://', 't', '.', 'co', '/', 'G', 'DE', 'z', 'g', 'N', 'w', 'Su', '7'], ['Exactly', 'Ġ2', 'Ġyears', 'Ġago', 'Ġtoday', ',', 'Ġ@', 'C', 'rist', 'iano', 'ĠRonaldo', 'Ġdestroyed', 'ĠPS', 'G', 'Ġat', 'ĠPar', 'c', 'ĠDes', 'ĠPrin', 'ces', '.', 'ðŁ', 'Ķ', '¥', 'ðŁ', 'Ķ', '¥', 'ðŁ', 'Ķ', '¥', 'Ġhttps', '://', 't', '.', 'co', '/', 'H', 'Ul', 'L', 'q', 'ei', 'C', 'YP'], ['PS', 'G', ':', 'Ġ*', 'sp', 'end', 'Ġhundreds', 'Ġof', 'Ġmillions', 'Ġto', 'Ġsign', 'ĠNey', 'mar', 'Ġand', 'ĠMb', 'app', 'Ã©', ',', 'Ġsacrificing', 'Ġhaving', 'Ġquality', 'Ġfull', 'backs', ',', 'Ġa', 'Ġgreat', 'Ġmidfield', 'âĢ¦', 'Ġhttps', '://', 't', '.', 'co', '/', '3', 'TE', 'u', '8', 'Lab', 'U', 'c'], ['A', 'Ġyear', 'Ġago', 'Ġtoday', ',', 'Ġ@', 'Marcus', 'R', 'ash', 'ford', \"'s\", 'Ġ94', 'th', '-', 'minute', 'Ġpenalty', 'Ġknocked', 'ĠPS', 'G', 'Ġout', 'Ġof', 'Ġthe', 'ĠChampions', 'ĠLeague', '.', 'Ċ', 'Ċ', 'N', 'ey', 'mar', 'Ġcouldn', \"'t\", 'Ġb', 'âĢ¦', 'Ġhttps', '://', 't', '.', 'co', '/', 'u', 'A', '09', '1', 'q', 'Q', 'v', '3', 'q'], ['Europe', 'âĢ', 'Ļ', 's', 'ĠTop', 'Ġ10', 'ĠHighest', 'ĠWage', 'ĠBills', 'ĠFor', 'Ġ2018', '/', '19', ':', 'Ċ', 'Ċ', '1', '.', 'ĠBarcelona', 'Ġ-', 'ĠÂ£', '438', 'm', 'Ġ', 'Ċ', '2', '.', 'ĠMan', 'ĠUnited', 'Ġ-', 'ĠÂ£', '332', 'm', 'Ċ', '3', '.', 'ĠMan', 'ĠCity', 'Ġ-', 'ĠÂ£', '315', 'm', 'Ċ', '4', '.', 'âĢ¦', 'Ġhttps', '://', 't', '.', 'co', '/', 'R', '7', 'a', '7', 'I', '5', 'P', '8', 'x', 'n'], ['ONE', 'ĠYEAR', 'ĠA', 'GO', 'ĠTODAY', ':', 'ĠUnited', 'Ġknocked', 'ĠPS', 'G', 'Ġout', 'Ġof', 'Ġthe', 'ĠChampions', 'ĠLeague', 'Ġand', 'Ġa', 'Ġmeme', 'Ġwas', 'Ġborn', '...', 'Ġ', 'Ċ', 'Ċ', 'MAN', 'ĠUNITED', 'ĠARE', 'ĠBACK', '!', 'ĠðŁ', 'Ķ', 'Ĭ', 'ðŁ', 'Ķ', 'Ĭ', 'âĢ¦', 'Ġhttps', '://', 't', '.', 'co', '/', 'a', 'Im', 'l', 'Ob', 'Os', 'no'], ['#', 'On', 'This', 'Day', ':', 'ĠOne', 'Ġyear', 'Ġago', ',', 'Ġ#', 'm', 'uf', 'c', 'Ġdid', 'Ġthe', 'Ġunthinkable', 'Ġwith', 'Ġa', 'Ġhistoric', 'Ġcomeback', 'Ġagainst', 'ĠPS', 'G', ',', 'Ġbecoming', 'Ġthe', 'Ġfirst', 'Ġteam', 'Ġi', 'âĢ¦', 'Ġhttps', '://', 't', '.', 'co', '/', 'I', 'H', 'q', 'CH', 'q', 'x', 'Y', 'yk'], ['I', 'âĢ', 'Ļ', 'm', 'Ġglad', 'Ġto', 'Ġhear', 'Ġreports', 'Ġthat', 'Ġ@', 'realDonaldTrump', 'âĢ', 'Ļ', 's', 'Ġadministration', 'Ġwill', 'Ġappeal', 'Ġthe', 'ĠTenth', 'ĠCircuit', 'âĢ', 'Ļ', 's', 'Ġdecision', 'Ġon', 'Ġsmall', 'Ġr', 'âĢ¦', 'Ġhttps', '://', 't', '.', 'co', '/', 'nn', 'u', '2', 'P', 'k', 'O', 'e', 'P', 'Q'], ['Turkish', 'Ġforces', 'Ġshooting', 'Ġin', 'Ġthe', 'Ġair', 'Ġwhile', 'Ġmigrants', 'Ġyelling', 'Ġ\"', 'All', 'ahu', 'ĠAk', 'bar', '\".', 'Ċ', 'Today', 'Ġafternoon', '.', 'Ċ', 'They', 'Ġshould', 'Ġbe', 'Ġeasy', 'Ġto', 'Ġi', 'âĢ¦', 'Ġhttps', '://', 't', '.', 'co', '/', 'd', '2', 'K', '0', 'f', 'F', 't', 'q', 'TG'], ['Why', 'Ġon', 'Ġearth', 'Ġis', 'ĠMarco', 'ĠVer', 'r', 'atti', 'Ġbeing', 'Ġbroadcast', 'Ġby', 'Ġan', 'ĠItalian', 'Ġstation', 'Ġdoing', 'Ġthis', 'Ġjust', 'Ġdays', 'Ġbefore', 'ĠPS', 'G', 'âĢ', 'Ļ', 's', 'Ġmost', 'Ġimport', 'a', 'âĢ¦', 'Ġhttps', '://', 't', '.', 'co', '/', 'E', 'u', '1', 'Q', 'w', 'uz', 'FU', 'l'], ['Why', 'Ġon', 'Ġearth', 'Ġis', 'ĠMarco', 'ĠVer', 'r', 'atti', 'Ġbeing', 'Ġbroadcast', 'Ġby', 'Ġan', 'ĠItalian', 'Ġstation', 'Ġdoing', 'Ġthis', 'Ġjust', 'Ġdays', 'Ġbefore', 'ĠPS', 'G', 'âĢ', 'Ļ', 's', 'Ġmost', 'Ġimport', 'a', 'âĢ¦', 'Ġhttps', '://', 't', '.', 'co', '/', 'E', 'u', '1', 'Q', 'w', 'uz', 'FU', 'l'], ['A', 'Ġyear', 'Ġago', 'Ġtoday', ',', 'Ġ@', 'Marcus', 'R', 'ash', 'ford', \"'s\", 'Ġ94', 'th', '-', 'minute', 'Ġpenalty', 'Ġknocked', 'ĠPS', 'G', 'Ġout', 'Ġof', 'Ġthe', 'ĠChampions', 'ĠLeague', '.', 'Ċ', 'Ċ', 'N', 'ey', 'mar', 'Ġcouldn', \"'t\", 'Ġb', 'âĢ¦', 'Ġhttps', '://', 't', '.', 'co', '/', 'u', 'A', '09', '1', 'q', 'Q', 'v', '3', 'q'], ['Exactly', 'Ġ2', 'Ġyears', 'Ġago', 'Ġtoday', ',', 'Ġ@', 'C', 'rist', 'iano', 'ĠRonaldo', 'Ġdestroyed', 'ĠPS', 'G', 'Ġat', 'ĠPar', 'c', 'ĠDes', 'ĠPrin', 'ces', '.', 'ðŁ', 'Ķ', '¥', 'ðŁ', 'Ķ', '¥', 'ðŁ', 'Ķ', '¥', 'Ġhttps', '://', 't', '.', 'co', '/', 'H', 'Ul', 'L', 'q', 'ei', 'C', 'YP'], ['Exactly', 'Ġ2', 'Ġyears', 'Ġago', 'Ġtoday', ',', 'Ġ@', 'C', 'rist', 'iano', 'ĠRonaldo', 'Ġdestroyed', 'ĠPS', 'G', 'Ġat', 'ĠPar', 'c', 'ĠDes', 'ĠPrin', 'ces', '.', 'ðŁ', 'Ķ', '¥', 'ðŁ', 'Ķ', '¥', 'ðŁ', 'Ķ', '¥', 'Ġhttps', '://', 't', '.', 'co', '/', 'H', 'Ul', 'L', 'q', 'ei', 'C', 'YP'], ['A', 'Ġyear', 'Ġago', 'Ġtoday', ',', 'Ġ@', 'Marcus', 'R', 'ash', 'ford', \"'s\", 'Ġ94', 'th', '-', 'minute', 'Ġpenalty', 'Ġknocked', 'ĠPS', 'G', 'Ġout', 'Ġof', 'Ġthe', 'ĠChampions', 'ĠLeague', '.', 'Ċ', 'Ċ', 'N', 'ey', 'mar', 'Ġcouldn', \"'t\", 'Ġb', 'âĢ¦', 'Ġhttps', '://', 't', '.', 'co', '/', 'u', 'A', '09', '1', 'q', 'Q', 'v', '3', 'q'], ['Exactly', 'Ġ2', 'Ġyears', 'Ġago', 'Ġtoday', ',', 'Ġ@', 'C', 'rist', 'iano', 'ĠRonaldo', 'Ġdestroyed', 'ĠPS', 'G', 'Ġat', 'ĠPar', 'c', 'ĠDes', 'ĠPrin', 'ces', '.', 'ðŁ', 'Ķ', '¥', 'ðŁ', 'Ķ', '¥', 'ðŁ', 'Ķ', '¥', 'Ġhttps', '://', 't', '.', 'co', '/', 'H', 'Ul', 'L', 'q', 'ei', 'C', 'YP'], ['Europe', 'âĢ', 'Ļ', 's', 'ĠTop', 'Ġ10', 'ĠHighest', 'ĠWage', 'ĠBills', 'ĠFor', 'Ġ2018', '/', '19', ':', 'Ċ', 'Ċ', '1', '.', 'ĠBarcelona', 'Ġ-', 'ĠÂ£', '438', 'm', 'Ġ', 'Ċ', '2', '.', 'ĠMan', 'ĠUnited', 'Ġ-', 'ĠÂ£', '332', 'm', 'Ċ', '3', '.', 'ĠMan', 'ĠCity', 'Ġ-', 'ĠÂ£', '315', 'm', 'Ċ', '4', '.', 'âĢ¦', 'Ġhttps', '://', 't', '.', 'co', '/', 'R', '7', 'a', '7', 'I', '5', 'P', '8', 'x', 'n'], ['Rep', 'orted', 'ĠLiverpool', 'Ġtarget', 'ĠKyl', 'ian', 'ĠMb', 'app', 'e', 'Ġcould', 'Ġforce', 'Ġmove', 'Ġaway', 'Ġfrom', 'ĠPS', 'G', '.', 'Ġâ', 'ļ', '½', 'Ċ', 'Ċ', 'https', '://', 't', '.', 'co', '/', 'Ax', 'rc', '5', 'HY', '9', 'r', '9'], ['Unlike', 'ly', ',', 'Ġbut', 'Ġhow', 'Ġmagical', 'Ġwould', 'Ġthis', 'Ġbe', '?', 'Ċ', 'Ċ', 'âĢ¢', 'ĠAt', 'letico', 'Ġknocking', 'Ġout', 'ĠLiverpool', 'Ċ', 'âĢ¢', 'ĠDortmund', 'Ġknocking', 'Ġout', 'ĠPS', 'G', 'Ċ', 'âĢ¢', 'ĠNap', 'oli', 'Ġkn', 'âĢ¦', 'Ġhttps', '://', 't', '.', 'co', '/', 'Gh', 'KK', 'o', 'PL', 'w', 'DF'], ['Exactly', 'Ġ2', 'Ġyears', 'Ġago', 'Ġtoday', ',', 'Ġ@', 'C', 'rist', 'iano', 'ĠRonaldo', 'Ġdestroyed', 'ĠPS', 'G', 'Ġat', 'ĠPar', 'c', 'ĠDes', 'ĠPrin', 'ces', '.', 'ðŁ', 'Ķ', '¥', 'ðŁ', 'Ķ', '¥', 'ðŁ', 'Ķ', '¥', 'Ġhttps', '://', 't', '.', 'co', '/', 'H', 'Ul', 'L', 'q', 'ei', 'C', 'YP'], ['#', 'On', 'This', 'Day', ':', 'ĠOne', 'Ġyear', 'Ġago', ',', 'Ġ#', 'm', 'uf', 'c', 'Ġdid', 'Ġthe', 'Ġunthinkable', 'Ġwith', 'Ġa', 'Ġhistoric', 'Ġcomeback', 'Ġagainst', 'ĠPS', 'G', ',', 'Ġbecoming', 'Ġthe', 'Ġfirst', 'Ġteam', 'Ġi', 'âĢ¦', 'Ġhttps', '://', 't', '.', 'co', '/', 'I', 'H', 'q', 'CH', 'q', 'x', 'Y', 'yk'], ['Marcus', 'ĠRash', 'ford', \"'s\", 'Ġwinning', 'Ġgoal', 'Ġagainst', 'ĠPS', 'G', 'Ġfrom', 'Ġthe', 'Ġstands', '.', 'ĠAbsolute', 'Ġscenes', 'ĠðŁ', 'Ķ', '¥', 'Ċ', 'https', '://', 't', '.', 'co', '/', 'I', 'c', 'X', 'o', 'Q', 'W', 'AM', 'v', 'Y'], ['Europe', 'âĢ', 'Ļ', 's', 'ĠTop', 'Ġ10', 'ĠHighest', 'ĠWage', 'ĠBills', 'ĠFor', 'Ġ2018', '/', '19', ':', 'Ċ', 'Ċ', '1', '.', 'ĠBarcelona', 'Ġ-', 'ĠÂ£', '438', 'm', 'Ġ', 'Ċ', '2', '.', 'ĠMan', 'ĠUnited', 'Ġ-', 'ĠÂ£', '332', 'm', 'Ċ', '3', '.', 'ĠMan', 'ĠCity', 'Ġ-', 'ĠÂ£', '315', 'm', 'Ċ', '4', '.', 'âĢ¦', 'Ġhttps', '://', 't', '.', 'co', '/', 'R', '7', 'a', '7', 'I', '5', 'P', '8', 'x', 'n'], ['A', 'Ġyear', 'Ġago', 'Ġtoday', ',', 'Ġ@', 'Marcus', 'R', 'ash', 'ford', \"'s\", 'Ġ94', 'th', '-', 'minute', 'Ġpenalty', 'Ġknocked', 'ĠPS', 'G', 'Ġout', 'Ġof', 'Ġthe', 'ĠChampions', 'ĠLeague', '.', 'Ċ', 'Ċ', 'N', 'ey', 'mar', 'Ġcouldn', \"'t\", 'Ġb', 'âĢ¦', 'Ġhttps', '://', 't', '.', 'co', '/', 'u', 'A', '09', '1', 'q', 'Q', 'v', '3', 'q'], ['A', 'Ġyear', 'Ġago', 'Ġtoday', ',', 'Ġ@', 'Marcus', 'R', 'ash', 'ford', \"'s\", 'Ġ94', 'th', '-', 'minute', 'Ġpenalty', 'Ġknocked', 'ĠPS', 'G', 'Ġout', 'Ġof', 'Ġthe', 'ĠChampions', 'ĠLeague', '.', 'Ċ', 'Ċ', 'N', 'ey', 'mar', 'Ġcouldn', \"'t\", 'Ġb', 'âĢ¦', 'Ġhttps', '://', 't', '.', 'co', '/', 'u', 'A', '09', '1', 'q', 'Q', 'v', '3', 'q'], ['Exactly', 'Ġ2', 'Ġyears', 'Ġago', 'Ġtoday', ',', 'Ġ@', 'C', 'rist', 'iano', 'ĠRonaldo', 'Ġdestroyed', 'ĠPS', 'G', 'Ġat', 'ĠPar', 'c', 'ĠDes', 'ĠPrin', 'ces', '.', 'ðŁ', 'Ķ', '¥', 'ðŁ', 'Ķ', '¥', 'ðŁ', 'Ķ', '¥', 'Ġhttps', '://', 't', '.', 'co', '/', 'H', 'Ul', 'L', 'q', 'ei', 'C', 'YP'], ['Despite', 'Ġbeing', 'Ġwithout', 'Ġ10', 'Ġsenior', 'Ġplayers', ',', 'Ġand', 'Ġhaving', 'Ġlost', 'Ġthe', 'Ġfirst', 'Ġleg', 'Ġ2', 'ï¸ı', 'â', 'ĥ', '£', '-', '0', 'ï¸ı', 'â', 'ĥ', '£', 'Ġ...', 'Ġ', 'Ċ', 'Ċ', '1', 'Ġyear', 'Ġago', 'Ġtoday', ',', 'Ġ@', 'Man', 'U', 'td', 'Ġhad', 'âĢ¦', 'Ġhttps', '://', 't', '.', 'co', '/', '6', 'dom', 'z', 'm', 'C', 'ts', 'a'], ['Bay', 'ern', 'Ġand', 'ĠDortmund', 'Ġare', 'Âł', 'both', 'Ġinterested', 'Ġin', 'Ġsigning', 'ĠThomas', 'ĠMe', 'un', 'ier', 'Âł', 'when', 'Ġhis', 'Âł', 'PS', 'G', 'Âł', 'contract', 'Ġexpires', 'Ġat', 'Ġthe', 'Ġend', 'Ġof', 'Ġthe', 'Ġs', 'âĢ¦', 'Ġhttps', '://', 't', '.', 'co', '/', 'N', 'IG', '1', 'Lat', '60', 'R'], ['Exactly', 'Ġ2', 'Ġyears', 'Ġago', 'Ġtoday', ',', 'Ġ@', 'C', 'rist', 'iano', 'ĠRonaldo', 'Ġdestroyed', 'ĠPS', 'G', 'Ġat', 'ĠPar', 'c', 'ĠDes', 'ĠPrin', 'ces', '.', 'ðŁ', 'Ķ', '¥', 'ðŁ', 'Ķ', '¥', 'ðŁ', 'Ķ', '¥', 'Ġhttps', '://', 't', '.', 'co', '/', 'H', 'Ul', 'L', 'q', 'ei', 'C', 'YP'], ['Exactly', 'Ġ2', 'Ġyears', 'Ġago', 'Ġtoday', ',', 'Ġ@', 'C', 'rist', 'iano', 'ĠRonaldo', 'Ġdestroyed', 'ĠPS', 'G', 'Ġat', 'ĠPar', 'c', 'ĠDes', 'ĠPrin', 'ces', '.', 'ðŁ', 'Ķ', '¥', 'ðŁ', 'Ķ', '¥', 'ðŁ', 'Ķ', '¥', 'Ġhttps', '://', 't', '.', 'co', '/', 'H', 'Ul', 'L', 'q', 'ei', 'C', 'YP'], ['Exactly', 'Ġ2', 'Ġyears', 'Ġago', 'Ġtoday', ',', 'Ġ@', 'C', 'rist', 'iano', 'ĠRonaldo', 'Ġdestroyed', 'ĠPS', 'G', 'Ġat', 'ĠPar', 'c', 'ĠDes', 'ĠPrin', 'ces', '.', 'ðŁ', 'Ķ', '¥', 'ðŁ', 'Ķ', '¥', 'ðŁ', 'Ķ', '¥', 'Ġhttps', '://', 't', '.', 'co', '/', 'H', 'Ul', 'L', 'q', 'ei', 'C', 'YP'], ['Why', 'Ġon', 'Ġearth', 'Ġis', 'ĠMarco', 'ĠVer', 'r', 'atti', 'Ġbeing', 'Ġbroadcast', 'Ġby', 'Ġan', 'ĠItalian', 'Ġstation', 'Ġdoing', 'Ġthis', 'Ġjust', 'Ġdays', 'Ġbefore', 'ĠPS', 'G', 'âĢ', 'Ļ', 's', 'Ġmost', 'Ġimport', 'a', 'âĢ¦', 'Ġhttps', '://', 't', '.', 'co', '/', 'E', 'u', '1', 'Q', 'w', 'uz', 'FU', 'l'], ['Why', 'Ġon', 'Ġearth', 'Ġis', 'ĠMarco', 'ĠVer', 'r', 'atti', 'Ġbeing', 'Ġbroadcast', 'Ġby', 'Ġan', 'ĠItalian', 'Ġstation', 'Ġdoing', 'Ġthis', 'Ġjust', 'Ġdays', 'Ġbefore', 'ĠPS', 'G', 'âĢ', 'Ļ', 's', 'Ġmost', 'Ġimport', 'a', 'âĢ¦', 'Ġhttps', '://', 't', '.', 'co', '/', 'E', 'u', '1', 'Q', 'w', 'uz', 'FU', 'l'], ['Official', ':', 'ĠStras', 'bourg', 'Ġgame', 'Ġhas', 'Ġbeen', 'Ġpost', 'op', 'oned', 'Ġdue', 'Ġto', 'ĠCorona', 'V', 'irus', '.', 'Ċ', 'This', 'Ġmeans', 'Ġthat', 'ĠNey', 'mar', 'Ġwill', 'Ġfinally', 'Ġplay', 'Ġa', 'Ġsecond', 'âĢ¦', 'Ġhttps', '://', 't', '.', 'co', '/', 'O', 'o', 'On', '01', 'w', '6', 'e', 'X'], ['A', 'Ġyear', 'Ġago', 'Ġtoday', ',', 'Ġ@', 'Marcus', 'R', 'ash', 'ford', \"'s\", 'Ġ94', 'th', '-', 'minute', 'Ġpenalty', 'Ġknocked', 'ĠPS', 'G', 'Ġout', 'Ġof', 'Ġthe', 'ĠChampions', 'ĠLeague', '.', 'Ċ', 'Ċ', 'N', 'ey', 'mar', 'Ġcouldn', \"'t\", 'Ġb', 'âĢ¦', 'Ġhttps', '://', 't', '.', 'co', '/', 'u', 'A', '09', '1', 'q', 'Q', 'v', '3', 'q'], ['Bernie', 'Ġthe', 'Ġ\"', 'outs', 'ider', '\"', 'Ġand', 'ĠBiden', 'Ġthe', 'Ġ\"', 'come', 'back', 'Ġkid', '\"', 'Ġhave', 'Ġa', 'Ġcombined', 'Ġ87', 'Ġyears', 'Ġin', 'Ġgovernment', ',', 'Ġwith', 'Ġnothing', 'Ġto', 'Ġshow', 'Ġfor', 'âĢ¦', 'Ġhttps', '://', 't', '.', 'co', '/', 'b', 'F', 'Z', 'OL', 'Y', 'W', '28', 'Z'], ['Why', 'Ġdon', \"'t\", 'Ġyou', 'Ġallow', 'Ġthem', 'Ġentry', 'Ġto', 'Ġthe', 'ĠUK', '?', 'ĠThey', 'Ġwill', 'Ġgladly', 'Ġoblig', 'e', '.', 'ĠYou', 'Ġappear', 'Ġgenerous', 'Ġat', 'Ġother', 'Ġpeople', \"'s\", 'Ġexpense', '...', 'Ġhttps', '://', 't', '.', 'co', '/', 'y', 'Ku', 'N', 'X', 'f', 'B', 'g', 'aj'], ['A', 'Ġyear', 'Ġago', 'Ġtoday', ',', 'Ġ@', 'Marcus', 'R', 'ash', 'ford', \"'s\", 'Ġ94', 'th', '-', 'minute', 'Ġpenalty', 'Ġknocked', 'ĠPS', 'G', 'Ġout', 'Ġof', 'Ġthe', 'ĠChampions', 'ĠLeague', '.', 'Ċ', 'Ċ', 'N', 'ey', 'mar', 'Ġcouldn', \"'t\", 'Ġb', 'âĢ¦', 'Ġhttps', '://', 't', '.', 'co', '/', 'u', 'A', '09', '1', 'q', 'Q', 'v', '3', 'q'], ['Exactly', 'Ġ2', 'Ġyears', 'Ġago', 'Ġtoday', ',', 'Ġ@', 'C', 'rist', 'iano', 'ĠRonaldo', 'Ġdestroyed', 'ĠPS', 'G', 'Ġat', 'ĠPar', 'c', 'ĠDes', 'ĠPrin', 'ces', '.', 'ðŁ', 'Ķ', '¥', 'ðŁ', 'Ķ', '¥', 'ðŁ', 'Ķ', '¥', 'Ġhttps', '://', 't', '.', 'co', '/', 'H', 'Ul', 'L', 'q', 'ei', 'C', 'YP'], ['A', 'Ġyear', 'Ġago', 'Ġtoday', ',', 'Ġ@', 'Marcus', 'R', 'ash', 'ford', \"'s\", 'Ġ94', 'th', '-', 'minute', 'Ġpenalty', 'Ġknocked', 'ĠPS', 'G', 'Ġout', 'Ġof', 'Ġthe', 'ĠChampions', 'ĠLeague', '.', 'Ċ', 'Ċ', 'N', 'ey', 'mar', 'Ġcouldn', \"'t\", 'Ġb', 'âĢ¦', 'Ġhttps', '://', 't', '.', 'co', '/', 'u', 'A', '09', '1', 'q', 'Q', 'v', '3', 'q'], ['Exactly', 'Ġ2', 'Ġyears', 'Ġago', 'Ġtoday', ',', 'Ġ@', 'C', 'rist', 'iano', 'ĠRonaldo', 'Ġdestroyed', 'ĠPS', 'G', 'Ġat', 'ĠPar', 'c', 'ĠDes', 'ĠPrin', 'ces', '.', 'ðŁ', 'Ķ', '¥', 'ðŁ', 'Ķ', '¥', 'ðŁ', 'Ķ', '¥', 'Ġhttps', '://', 't', '.', 'co', '/', 'H', 'Ul', 'L', 'q', 'ei', 'C', 'YP'], ['PS', 'G', \"'s\", 'Ġfootball', 'Ġmatch', 'Ġat', 'ĠStras', 'bourg', 'Ġpostponed', 'Ġdue', 'Ġto', 'Ġcoron', 'av', 'irus', 'Ġfears', 'Ġhttps', '://', 't', '.', 'co', '/', 'tg', 'p', 'Z', 'N', '1', 'n', 'Us', 'f'], ['Europe', 'âĢ', 'Ļ', 's', 'ĠTop', 'Ġ10', 'ĠHighest', 'ĠWage', 'ĠBills', 'ĠFor', 'Ġ2018', '/', '19', ':', 'Ċ', 'Ċ', '1', '.', 'ĠBarcelona', 'Ġ-', 'ĠÂ£', '438', 'm', 'Ġ', 'Ċ', '2', '.', 'ĠMan', 'ĠUnited', 'Ġ-', 'ĠÂ£', '332', 'm', 'Ċ', '3', '.', 'ĠMan', 'ĠCity', 'Ġ-', 'ĠÂ£', '315', 'm', 'Ċ', '4', '.', 'âĢ¦', 'Ġhttps', '://', 't', '.', 'co', '/', 'R', '7', 'a', '7', 'I', '5', 'P', '8', 'x', 'n'], ['ONE', 'ĠYEAR', 'ĠA', 'GO', 'ĠTODAY', ':', 'ĠUnited', 'Ġknocked', 'ĠPS', 'G', 'Ġout', 'Ġof', 'Ġthe', 'ĠChampions', 'ĠLeague', 'Ġand', 'Ġa', 'Ġmeme', 'Ġwas', 'Ġborn', '...', 'Ġ', 'Ċ', 'Ċ', 'MAN', 'ĠUNITED', 'ĠARE', 'ĠBACK', '!', 'ĠðŁ', 'Ķ', 'Ĭ', 'ðŁ', 'Ķ', 'Ĭ', 'âĢ¦', 'Ġhttps', '://', 't', '.', 'co', '/', 'a', 'Im', 'l', 'Ob', 'Os', 'no'], ['Exactly', 'Ġ2', 'Ġyears', 'Ġago', 'Ġtoday', ',', 'Ġ@', 'C', 'rist', 'iano', 'ĠRonaldo', 'Ġdestroyed', 'ĠPS', 'G', 'Ġat', 'ĠPar', 'c', 'ĠDes', 'ĠPrin', 'ces', '.', 'ðŁ', 'Ķ', '¥', 'ðŁ', 'Ķ', '¥', 'ðŁ', 'Ķ', '¥', 'Ġhttps', '://', 't', '.', 'co', '/', 'H', 'Ul', 'L', 'q', 'ei', 'C', 'YP'], ['Exactly', 'Ġ2', 'Ġyears', 'Ġago', 'Ġtoday', ',', 'Ġ@', 'C', 'rist', 'iano', 'ĠRonaldo', 'Ġdestroyed', 'ĠPS', 'G', 'Ġat', 'ĠPar', 'c', 'ĠDes', 'ĠPrin', 'ces', '.', 'ðŁ', 'Ķ', '¥', 'ðŁ', 'Ķ', '¥', 'ðŁ', 'Ķ', '¥', 'Ġhttps', '://', 't', '.', 'co', '/', 'H', 'Ul', 'L', 'q', 'ei', 'C', 'YP'], ['Exactly', 'Ġ2', 'Ġyears', 'Ġago', 'Ġtoday', ',', 'Ġ@', 'C', 'rist', 'iano', 'ĠRonaldo', 'Ġdestroyed', 'ĠPS', 'G', 'Ġat', 'ĠPar', 'c', 'ĠDes', 'ĠPrin', 'ces', '.', 'ðŁ', 'Ķ', '¥', 'ðŁ', 'Ķ', '¥', 'ðŁ', 'Ķ', '¥', 'Ġhttps', '://', 't', '.', 'co', '/', 'H', 'Ul', 'L', 'q', 'ei', 'C', 'YP'], ['Why', 'Ġon', 'Ġearth', 'Ġis', 'ĠMarco', 'ĠVer', 'r', 'atti', 'Ġbeing', 'Ġbroadcast', 'Ġby', 'Ġan', 'ĠItalian', 'Ġstation', 'Ġdoing', 'Ġthis', 'Ġjust', 'Ġdays', 'Ġbefore', 'ĠPS', 'G', 'âĢ', 'Ļ', 's', 'Ġmost', 'Ġimport', 'a', 'âĢ¦', 'Ġhttps', '://', 't', '.', 'co', '/', 'E', 'u', '1', 'Q', 'w', 'uz', 'FU', 'l'], ['PS', 'G', 'Ġv', 'ĠMU', 'FC', 'Ġa', 'Ġyear', 'Ġago', 'Ġtoday', '.', 'ĠA', 'Ġmate', 'Ġin', 'Ġthe', 'Ġhome', 'Ġend', 'Ġtook', 'Ġthis', '.', 'Ġhttps', '://', 't', '.', 'co', '/', 'X', 'su', 'L', 'd', 'w', 'V', 'b', '1', 'q'], ['I', 'Ġexpect', 'ĠThomas', 'ĠMe', 'un', 'ier', 'Ġto', 'ĠâĢ', 'ľ', 'fail', 'Ġupwards', 'âĢ', 'Ŀ', 'Ġthis', 'Ġsummer', '.', 'ĠHas', 'n', 'âĢ', 'Ļ', 't', 'Ġbeen', 'Ġgreat', 'Ġat', 'ĠPS', 'G', ',', 'Ġbut', 'Ġhe', 'âĢ', 'Ļ', 's', 'Ġa', 'Ġbig', 'Ġname', 'Ġin', 'Ġa', 'Ġsmall', 'ĠRB', 'âĢ¦', 'Ġhttps', '://', 't', '.', 'co', '/', 'ku', 'V', 'X', 'h', 'C', 'w', 'bl', 'o'], ['Exactly', 'Ġ2', 'Ġyears', 'Ġago', 'Ġtoday', ',', 'Ġ@', 'C', 'rist', 'iano', 'ĠRonaldo', 'Ġdestroyed', 'ĠPS', 'G', 'Ġat', 'ĠPar', 'c', 'ĠDes', 'ĠPrin', 'ces', '.', 'ðŁ', 'Ķ', '¥', 'ðŁ', 'Ķ', '¥', 'ðŁ', 'Ķ', '¥', 'Ġhttps', '://', 't', '.', 'co', '/', 'H', 'Ul', 'L', 'q', 'ei', 'C', 'YP'], ['Exactly', 'Ġ2', 'Ġyears', 'Ġago', 'Ġtoday', ',', 'Ġ@', 'C', 'rist', 'iano', 'ĠRonaldo', 'Ġdestroyed', 'ĠPS', 'G', 'Ġat', 'ĠPar', 'c', 'ĠDes', 'ĠPrin', 'ces', '.', 'ðŁ', 'Ķ', '¥', 'ðŁ', 'Ķ', '¥', 'ðŁ', 'Ķ', '¥', 'Ġhttps', '://', 't', '.', 'co', '/', 'H', 'Ul', 'L', 'q', 'ei', 'C', 'YP'], ['Exactly', 'Ġ2', 'Ġyears', 'Ġago', 'Ġtoday', ',', 'Ġ@', 'C', 'rist', 'iano', 'ĠRonaldo', 'Ġdestroyed', 'ĠPS', 'G', 'Ġat', 'ĠPar', 'c', 'ĠDes', 'ĠPrin', 'ces', '.', 'ðŁ', 'Ķ', '¥', 'ðŁ', 'Ķ', '¥', 'ðŁ', 'Ķ', '¥', 'Ġhttps', '://', 't', '.', 'co', '/', 'H', 'Ul', 'L', 'q', 'ei', 'C', 'YP'], ['Rep', 'orted', 'ĠLiverpool', 'Ġtarget', 'ĠKyl', 'ian', 'ĠMb', 'app', 'e', 'Ġcould', 'Ġforce', 'Ġmove', 'Ġaway', 'Ġfrom', 'ĠPS', 'G', '.', 'Ġâ', 'ļ', '½', 'Ċ', 'Ċ', 'https', '://', 't', '.', 'co', '/', 'Ax', 'rc', '5', 'HY', '9', 'r', '9'], ['Exactly', 'Ġ2', 'Ġyears', 'Ġago', 'Ġtoday', ',', 'Ġ@', 'C', 'rist', 'iano', 'ĠRonaldo', 'Ġdestroyed', 'ĠPS', 'G', 'Ġat', 'ĠPar', 'c', 'ĠDes', 'ĠPrin', 'ces', '.', 'ðŁ', 'Ķ', '¥', 'ðŁ', 'Ķ', '¥', 'ðŁ', 'Ķ', '¥', 'Ġhttps', '://', 't', '.', 'co', '/', 'H', 'Ul', 'L', 'q', 'ei', 'C', 'YP'], ['A', 'Ġyear', 'Ġago', 'Ġtoday', ',', 'Ġ@', 'Marcus', 'R', 'ash', 'ford', \"'s\", 'Ġ94', 'th', '-', 'minute', 'Ġpenalty', 'Ġknocked', 'ĠPS', 'G', 'Ġout', 'Ġof', 'Ġthe', 'ĠChampions', 'ĠLeague', '.', 'Ċ', 'Ċ', 'N', 'ey', 'mar', 'Ġcouldn', \"'t\", 'Ġb', 'âĢ¦', 'Ġhttps', '://', 't', '.', 'co', '/', 'u', 'A', '09', '1', 'q', 'Q', 'v', '3', 'q'], ['PS', 'G', 'Ġdidn', 'âĢ', 'Ļ', 't', 'Ġhang', 'Ġaround', 'Ġ-', 'Ġless', 'Ġthan', 'Ġ1', 'Ġhour', 'Ġafter', 'Ġdiscovering', 'Ġthat', 'Ġtheir', 'Ġmatch', 'Ġvs', 'ĠStras', 'bourg', 'Ġtomorrow', 'Ġhas', 'Ġbeen', 'Ġcalled', 'âĢ¦', 'Ġhttps', '://', 't', '.', 'co', '/', 'ya', '0', 'r', 'z', '7', 'v', 'TL', 'h']]\n"
          ],
          "name": "stdout"
        }
      ]
    }
  ]
}